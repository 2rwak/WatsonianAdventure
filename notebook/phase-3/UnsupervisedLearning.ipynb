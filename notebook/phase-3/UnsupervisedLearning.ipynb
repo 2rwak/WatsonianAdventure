{
  "cells": [
    {
      "cell_type": "markdown",
      "metadata": {
        "id": "unB4_8Qv8NKp"
      },
      "source": [
        "**Group # 1 - Section 74984**\n",
        "\n",
        "Arwa Alabdulkarim 441201304\n",
        "\n",
        "Reef Althunayan 441201390\n",
        "\n",
        "\n",
        "Sadeem Almujil 442202286"
      ]
    },
    {
      "cell_type": "markdown",
      "metadata": {
        "id": "KeQRsDQR8ogP"
      },
      "source": [
        "\n",
        "# **Phase 3 : Unupervised learning**\n",
        " \n",
        "\n",
        "**unsupervised learning** aims to partition datasets into clusters where data in each cluster ideally share some common characteristics.\n",
        "\n",
        "In k-means clustering, the objective is to partition a dataset into k distinct clusters, where each data point belongs to the cluster with the closest mean (centroid). \n",
        "\n",
        "Since determining the optimal value of k requires comparing various suggested numbers of k, and after testing multiple values of k, it may be determined that a range of k between 2-10 provides the most suitable results, as demonstrated below using different evaluation methods and metrics."
      ]
    },
    {
      "cell_type": "code",
      "execution_count": 203,
      "metadata": {
        "_cell_guid": "b1076dfc-b9ad-4769-8c92-a6c4dae69d19",
        "_uuid": "8f2839f25d086af736a60e9eeb907d3b93b6e0e5",
        "execution": {
          "iopub.execute_input": "2023-05-18T17:06:27.137675Z",
          "iopub.status.busy": "2023-05-18T17:06:27.137258Z",
          "iopub.status.idle": "2023-05-18T17:06:27.244698Z",
          "shell.execute_reply": "2023-05-18T17:06:27.243574Z",
          "shell.execute_reply.started": "2023-05-18T17:06:27.137646Z"
        },
        "id": "Syi92iBD7PMA",
        "trusted": true
      },
      "outputs": [],
      "source": [
        "# Import the required libraries\n",
        "import pandas as pd\n",
        "import numpy as np\n",
        "import re\n",
        "import matplotlib.pyplot as plt\n",
        "from sklearn.cluster import KMeans\n",
        "from sklearn.preprocessing import StandardScaler\n",
        "import matplotlib.pyplot as plt\n",
        "from sklearn.metrics import silhouette_score\n"
      ]
    },
    {
      "cell_type": "code",
      "execution_count": 204,
      "metadata": {
        "colab": {
          "base_uri": "https://localhost:8080/",
          "height": 337
        },
        "id": "tdi7woes8mji",
        "outputId": "47a3c281-6e64-4988-dd96-ec161754ca1f"
      },
      "outputs": [
        {
          "data": {
            "text/html": [
              "\n",
              "  <div id=\"df-6b03ddb4-96e3-4198-8fa4-6a48af89bbaf\">\n",
              "    <div class=\"colab-df-container\">\n",
              "      <div>\n",
              "<style scoped>\n",
              "    .dataframe tbody tr th:only-of-type {\n",
              "        vertical-align: middle;\n",
              "    }\n",
              "\n",
              "    .dataframe tbody tr th {\n",
              "        vertical-align: top;\n",
              "    }\n",
              "\n",
              "    .dataframe thead th {\n",
              "        text-align: right;\n",
              "    }\n",
              "</style>\n",
              "<table border=\"1\" class=\"dataframe\">\n",
              "  <thead>\n",
              "    <tr style=\"text-align: right;\">\n",
              "      <th></th>\n",
              "      <th>premise</th>\n",
              "      <th>hypothesis</th>\n",
              "      <th>label</th>\n",
              "      <th>premise_vectors</th>\n",
              "      <th>hypothesis_vectors</th>\n",
              "    </tr>\n",
              "  </thead>\n",
              "  <tbody>\n",
              "    <tr>\n",
              "      <th>0</th>\n",
              "      <td>['and', 'these', 'comments', 'were', 'consider...</td>\n",
              "      <td>['the', 'rules', 'developed', 'in', 'the', 'in...</td>\n",
              "      <td>0</td>\n",
              "      <td>[-2.2779953e-01 -2.1100001e-02  5.5328900e-01 ...</td>\n",
              "      <td>[-0.22748104 -0.03450689  0.564092   -0.687629...</td>\n",
              "    </tr>\n",
              "    <tr>\n",
              "      <th>1</th>\n",
              "      <td>['these', 'are', 'issues', 'that', 'we', 'wres...</td>\n",
              "      <td>['practice', 'groups', 'are', 'not', 'permitte...</td>\n",
              "      <td>2</td>\n",
              "      <td>[-2.2742710e-01 -3.6777418e-02  5.6592155e-01 ...</td>\n",
              "      <td>[-2.2779953e-01 -2.1100001e-02  5.5328900e-01 ...</td>\n",
              "    </tr>\n",
              "    <tr>\n",
              "      <th>2</th>\n",
              "      <td>['you', 'know', 'they', 'cant', 'really', 'def...</td>\n",
              "      <td>['they', 'cant', 'defend', 'themselves', 'beca...</td>\n",
              "      <td>0</td>\n",
              "      <td>[-2.27337718e-01 -4.05399986e-02  5.68953395e-...</td>\n",
              "      <td>[-0.22807117 -0.00966471  0.5440747  -0.666615...</td>\n",
              "    </tr>\n",
              "    <tr>\n",
              "      <th>3</th>\n",
              "      <td>['from', 'cockpit', 'country', 'to', 'st', 'an...</td>\n",
              "      <td>['from', 'st', 'anns', 'bay', 'to', 'cockpit',...</td>\n",
              "      <td>2</td>\n",
              "      <td>[-2.2826132e-01 -1.6600012e-03  5.3762472e-01 ...</td>\n",
              "      <td>[-2.2826132e-01 -1.6600012e-03  5.3762472e-01 ...</td>\n",
              "    </tr>\n",
              "    <tr>\n",
              "      <th>4</th>\n",
              "      <td>['look', 'its', 'your', 'skin', 'but', 'youre'...</td>\n",
              "      <td>['the', 'boss', 'will', 'fire', 'you', 'if', '...</td>\n",
              "      <td>1</td>\n",
              "      <td>[-2.2737969e-01 -3.8772728e-02  5.6752932e-01 ...</td>\n",
              "      <td>[-0.22769913 -0.02532609  0.55669427 -0.679863...</td>\n",
              "    </tr>\n",
              "  </tbody>\n",
              "</table>\n",
              "</div>\n",
              "      <button class=\"colab-df-convert\" onclick=\"convertToInteractive('df-6b03ddb4-96e3-4198-8fa4-6a48af89bbaf')\"\n",
              "              title=\"Convert this dataframe to an interactive table.\"\n",
              "              style=\"display:none;\">\n",
              "        \n",
              "  <svg xmlns=\"http://www.w3.org/2000/svg\" height=\"24px\"viewBox=\"0 0 24 24\"\n",
              "       width=\"24px\">\n",
              "    <path d=\"M0 0h24v24H0V0z\" fill=\"none\"/>\n",
              "    <path d=\"M18.56 5.44l.94 2.06.94-2.06 2.06-.94-2.06-.94-.94-2.06-.94 2.06-2.06.94zm-11 1L8.5 8.5l.94-2.06 2.06-.94-2.06-.94L8.5 2.5l-.94 2.06-2.06.94zm10 10l.94 2.06.94-2.06 2.06-.94-2.06-.94-.94-2.06-.94 2.06-2.06.94z\"/><path d=\"M17.41 7.96l-1.37-1.37c-.4-.4-.92-.59-1.43-.59-.52 0-1.04.2-1.43.59L10.3 9.45l-7.72 7.72c-.78.78-.78 2.05 0 2.83L4 21.41c.39.39.9.59 1.41.59.51 0 1.02-.2 1.41-.59l7.78-7.78 2.81-2.81c.8-.78.8-2.07 0-2.86zM5.41 20L4 18.59l7.72-7.72 1.47 1.35L5.41 20z\"/>\n",
              "  </svg>\n",
              "      </button>\n",
              "      \n",
              "  <style>\n",
              "    .colab-df-container {\n",
              "      display:flex;\n",
              "      flex-wrap:wrap;\n",
              "      gap: 12px;\n",
              "    }\n",
              "\n",
              "    .colab-df-convert {\n",
              "      background-color: #E8F0FE;\n",
              "      border: none;\n",
              "      border-radius: 50%;\n",
              "      cursor: pointer;\n",
              "      display: none;\n",
              "      fill: #1967D2;\n",
              "      height: 32px;\n",
              "      padding: 0 0 0 0;\n",
              "      width: 32px;\n",
              "    }\n",
              "\n",
              "    .colab-df-convert:hover {\n",
              "      background-color: #E2EBFA;\n",
              "      box-shadow: 0px 1px 2px rgba(60, 64, 67, 0.3), 0px 1px 3px 1px rgba(60, 64, 67, 0.15);\n",
              "      fill: #174EA6;\n",
              "    }\n",
              "\n",
              "    [theme=dark] .colab-df-convert {\n",
              "      background-color: #3B4455;\n",
              "      fill: #D2E3FC;\n",
              "    }\n",
              "\n",
              "    [theme=dark] .colab-df-convert:hover {\n",
              "      background-color: #434B5C;\n",
              "      box-shadow: 0px 1px 3px 1px rgba(0, 0, 0, 0.15);\n",
              "      filter: drop-shadow(0px 1px 2px rgba(0, 0, 0, 0.3));\n",
              "      fill: #FFFFFF;\n",
              "    }\n",
              "  </style>\n",
              "\n",
              "      <script>\n",
              "        const buttonEl =\n",
              "          document.querySelector('#df-6b03ddb4-96e3-4198-8fa4-6a48af89bbaf button.colab-df-convert');\n",
              "        buttonEl.style.display =\n",
              "          google.colab.kernel.accessAllowed ? 'block' : 'none';\n",
              "\n",
              "        async function convertToInteractive(key) {\n",
              "          const element = document.querySelector('#df-6b03ddb4-96e3-4198-8fa4-6a48af89bbaf');\n",
              "          const dataTable =\n",
              "            await google.colab.kernel.invokeFunction('convertToInteractive',\n",
              "                                                     [key], {});\n",
              "          if (!dataTable) return;\n",
              "\n",
              "          const docLinkHtml = 'Like what you see? Visit the ' +\n",
              "            '<a target=\"_blank\" href=https://colab.research.google.com/notebooks/data_table.ipynb>data table notebook</a>'\n",
              "            + ' to learn more about interactive tables.';\n",
              "          element.innerHTML = '';\n",
              "          dataTable['output_type'] = 'display_data';\n",
              "          await google.colab.output.renderOutput(dataTable, element);\n",
              "          const docLink = document.createElement('div');\n",
              "          docLink.innerHTML = docLinkHtml;\n",
              "          element.appendChild(docLink);\n",
              "        }\n",
              "      </script>\n",
              "    </div>\n",
              "  </div>\n",
              "  "
            ],
            "text/plain": [
              "                                             premise  \\\n",
              "0  ['and', 'these', 'comments', 'were', 'consider...   \n",
              "1  ['these', 'are', 'issues', 'that', 'we', 'wres...   \n",
              "2  ['you', 'know', 'they', 'cant', 'really', 'def...   \n",
              "3  ['from', 'cockpit', 'country', 'to', 'st', 'an...   \n",
              "4  ['look', 'its', 'your', 'skin', 'but', 'youre'...   \n",
              "\n",
              "                                          hypothesis  label  \\\n",
              "0  ['the', 'rules', 'developed', 'in', 'the', 'in...      0   \n",
              "1  ['practice', 'groups', 'are', 'not', 'permitte...      2   \n",
              "2  ['they', 'cant', 'defend', 'themselves', 'beca...      0   \n",
              "3  ['from', 'st', 'anns', 'bay', 'to', 'cockpit',...      2   \n",
              "4  ['the', 'boss', 'will', 'fire', 'you', 'if', '...      1   \n",
              "\n",
              "                                     premise_vectors  \\\n",
              "0  [-2.2779953e-01 -2.1100001e-02  5.5328900e-01 ...   \n",
              "1  [-2.2742710e-01 -3.6777418e-02  5.6592155e-01 ...   \n",
              "2  [-2.27337718e-01 -4.05399986e-02  5.68953395e-...   \n",
              "3  [-2.2826132e-01 -1.6600012e-03  5.3762472e-01 ...   \n",
              "4  [-2.2737969e-01 -3.8772728e-02  5.6752932e-01 ...   \n",
              "\n",
              "                                  hypothesis_vectors  \n",
              "0  [-0.22748104 -0.03450689  0.564092   -0.687629...  \n",
              "1  [-2.2779953e-01 -2.1100001e-02  5.5328900e-01 ...  \n",
              "2  [-0.22807117 -0.00966471  0.5440747  -0.666615...  \n",
              "3  [-2.2826132e-01 -1.6600012e-03  5.3762472e-01 ...  \n",
              "4  [-0.22769913 -0.02532609  0.55669427 -0.679863...  "
            ]
          },
          "execution_count": 204,
          "metadata": {},
          "output_type": "execute_result"
        }
      ],
      "source": [
        "# Read CSV file\n",
        "df = pd.read_csv('train_after_cleanning.csv')\n",
        "\n",
        "# Print the first 5 rows of the Dataset\n",
        "df.head()"
      ]
    },
    {
      "cell_type": "code",
      "execution_count": 205,
      "metadata": {
        "colab": {
          "base_uri": "https://localhost:8080/",
          "height": 224
        },
        "id": "lakkddiWIf-M",
        "outputId": "cebc5243-dea8-4176-a698-a6ffc1cd2cda"
      },
      "outputs": [
        {
          "name": "stdout",
          "output_type": "stream",
          "text": [
            "ground truth labels [0 2 0 ... 0 0 2]\n"
          ]
        },
        {
          "data": {
            "text/html": [
              "\n",
              "  <div id=\"df-56cc91f6-1ed0-4a45-906d-e4c67afb19bd\">\n",
              "    <div class=\"colab-df-container\">\n",
              "      <div>\n",
              "<style scoped>\n",
              "    .dataframe tbody tr th:only-of-type {\n",
              "        vertical-align: middle;\n",
              "    }\n",
              "\n",
              "    .dataframe tbody tr th {\n",
              "        vertical-align: top;\n",
              "    }\n",
              "\n",
              "    .dataframe thead th {\n",
              "        text-align: right;\n",
              "    }\n",
              "</style>\n",
              "<table border=\"1\" class=\"dataframe\">\n",
              "  <thead>\n",
              "    <tr style=\"text-align: right;\">\n",
              "      <th></th>\n",
              "      <th>premise_vectors</th>\n",
              "      <th>hypothesis_vectors</th>\n",
              "    </tr>\n",
              "  </thead>\n",
              "  <tbody>\n",
              "    <tr>\n",
              "      <th>0</th>\n",
              "      <td>[-2.2779953e-01 -2.1100001e-02  5.5328900e-01 ...</td>\n",
              "      <td>[-0.22748104 -0.03450689  0.564092   -0.687629...</td>\n",
              "    </tr>\n",
              "    <tr>\n",
              "      <th>1</th>\n",
              "      <td>[-2.2742710e-01 -3.6777418e-02  5.6592155e-01 ...</td>\n",
              "      <td>[-2.2779953e-01 -2.1100001e-02  5.5328900e-01 ...</td>\n",
              "    </tr>\n",
              "    <tr>\n",
              "      <th>2</th>\n",
              "      <td>[-2.27337718e-01 -4.05399986e-02  5.68953395e-...</td>\n",
              "      <td>[-0.22807117 -0.00966471  0.5440747  -0.666615...</td>\n",
              "    </tr>\n",
              "    <tr>\n",
              "      <th>3</th>\n",
              "      <td>[-2.2826132e-01 -1.6600012e-03  5.3762472e-01 ...</td>\n",
              "      <td>[-2.2826132e-01 -1.6600012e-03  5.3762472e-01 ...</td>\n",
              "    </tr>\n",
              "    <tr>\n",
              "      <th>4</th>\n",
              "      <td>[-2.2737969e-01 -3.8772728e-02  5.6752932e-01 ...</td>\n",
              "      <td>[-0.22769913 -0.02532609  0.55669427 -0.679863...</td>\n",
              "    </tr>\n",
              "  </tbody>\n",
              "</table>\n",
              "</div>\n",
              "      <button class=\"colab-df-convert\" onclick=\"convertToInteractive('df-56cc91f6-1ed0-4a45-906d-e4c67afb19bd')\"\n",
              "              title=\"Convert this dataframe to an interactive table.\"\n",
              "              style=\"display:none;\">\n",
              "        \n",
              "  <svg xmlns=\"http://www.w3.org/2000/svg\" height=\"24px\"viewBox=\"0 0 24 24\"\n",
              "       width=\"24px\">\n",
              "    <path d=\"M0 0h24v24H0V0z\" fill=\"none\"/>\n",
              "    <path d=\"M18.56 5.44l.94 2.06.94-2.06 2.06-.94-2.06-.94-.94-2.06-.94 2.06-2.06.94zm-11 1L8.5 8.5l.94-2.06 2.06-.94-2.06-.94L8.5 2.5l-.94 2.06-2.06.94zm10 10l.94 2.06.94-2.06 2.06-.94-2.06-.94-.94-2.06-.94 2.06-2.06.94z\"/><path d=\"M17.41 7.96l-1.37-1.37c-.4-.4-.92-.59-1.43-.59-.52 0-1.04.2-1.43.59L10.3 9.45l-7.72 7.72c-.78.78-.78 2.05 0 2.83L4 21.41c.39.39.9.59 1.41.59.51 0 1.02-.2 1.41-.59l7.78-7.78 2.81-2.81c.8-.78.8-2.07 0-2.86zM5.41 20L4 18.59l7.72-7.72 1.47 1.35L5.41 20z\"/>\n",
              "  </svg>\n",
              "      </button>\n",
              "      \n",
              "  <style>\n",
              "    .colab-df-container {\n",
              "      display:flex;\n",
              "      flex-wrap:wrap;\n",
              "      gap: 12px;\n",
              "    }\n",
              "\n",
              "    .colab-df-convert {\n",
              "      background-color: #E8F0FE;\n",
              "      border: none;\n",
              "      border-radius: 50%;\n",
              "      cursor: pointer;\n",
              "      display: none;\n",
              "      fill: #1967D2;\n",
              "      height: 32px;\n",
              "      padding: 0 0 0 0;\n",
              "      width: 32px;\n",
              "    }\n",
              "\n",
              "    .colab-df-convert:hover {\n",
              "      background-color: #E2EBFA;\n",
              "      box-shadow: 0px 1px 2px rgba(60, 64, 67, 0.3), 0px 1px 3px 1px rgba(60, 64, 67, 0.15);\n",
              "      fill: #174EA6;\n",
              "    }\n",
              "\n",
              "    [theme=dark] .colab-df-convert {\n",
              "      background-color: #3B4455;\n",
              "      fill: #D2E3FC;\n",
              "    }\n",
              "\n",
              "    [theme=dark] .colab-df-convert:hover {\n",
              "      background-color: #434B5C;\n",
              "      box-shadow: 0px 1px 3px 1px rgba(0, 0, 0, 0.15);\n",
              "      filter: drop-shadow(0px 1px 2px rgba(0, 0, 0, 0.3));\n",
              "      fill: #FFFFFF;\n",
              "    }\n",
              "  </style>\n",
              "\n",
              "      <script>\n",
              "        const buttonEl =\n",
              "          document.querySelector('#df-56cc91f6-1ed0-4a45-906d-e4c67afb19bd button.colab-df-convert');\n",
              "        buttonEl.style.display =\n",
              "          google.colab.kernel.accessAllowed ? 'block' : 'none';\n",
              "\n",
              "        async function convertToInteractive(key) {\n",
              "          const element = document.querySelector('#df-56cc91f6-1ed0-4a45-906d-e4c67afb19bd');\n",
              "          const dataTable =\n",
              "            await google.colab.kernel.invokeFunction('convertToInteractive',\n",
              "                                                     [key], {});\n",
              "          if (!dataTable) return;\n",
              "\n",
              "          const docLinkHtml = 'Like what you see? Visit the ' +\n",
              "            '<a target=\"_blank\" href=https://colab.research.google.com/notebooks/data_table.ipynb>data table notebook</a>'\n",
              "            + ' to learn more about interactive tables.';\n",
              "          element.innerHTML = '';\n",
              "          dataTable['output_type'] = 'display_data';\n",
              "          await google.colab.output.renderOutput(dataTable, element);\n",
              "          const docLink = document.createElement('div');\n",
              "          docLink.innerHTML = docLinkHtml;\n",
              "          element.appendChild(docLink);\n",
              "        }\n",
              "      </script>\n",
              "    </div>\n",
              "  </div>\n",
              "  "
            ],
            "text/plain": [
              "                                     premise_vectors  \\\n",
              "0  [-2.2779953e-01 -2.1100001e-02  5.5328900e-01 ...   \n",
              "1  [-2.2742710e-01 -3.6777418e-02  5.6592155e-01 ...   \n",
              "2  [-2.27337718e-01 -4.05399986e-02  5.68953395e-...   \n",
              "3  [-2.2826132e-01 -1.6600012e-03  5.3762472e-01 ...   \n",
              "4  [-2.2737969e-01 -3.8772728e-02  5.6752932e-01 ...   \n",
              "\n",
              "                                  hypothesis_vectors  \n",
              "0  [-0.22748104 -0.03450689  0.564092   -0.687629...  \n",
              "1  [-2.2779953e-01 -2.1100001e-02  5.5328900e-01 ...  \n",
              "2  [-0.22807117 -0.00966471  0.5440747  -0.666615...  \n",
              "3  [-2.2826132e-01 -1.6600012e-03  5.3762472e-01 ...  \n",
              "4  [-0.22769913 -0.02532609  0.55669427 -0.679863...  "
            ]
          },
          "execution_count": 205,
          "metadata": {},
          "output_type": "execute_result"
        }
      ],
      "source": [
        "#define the ground truth label for Bcubed\n",
        "ground_truth_labels = df.iloc[:,2].values\n",
        "print(\"ground truth labels\", ground_truth_labels)\n",
        "\n",
        "# drop the uselesscolumns\n",
        "df = df.drop(df.columns[[0,1,2]], axis=1)\n",
        "df.head()"
      ]
    },
    {
      "cell_type": "code",
      "execution_count": 206,
      "metadata": {
        "execution": {
          "iopub.execute_input": "2023-05-18T17:06:27.277079Z",
          "iopub.status.busy": "2023-05-18T17:06:27.276184Z",
          "iopub.status.idle": "2023-05-18T17:06:28.079790Z",
          "shell.execute_reply": "2023-05-18T17:06:28.078875Z",
          "shell.execute_reply.started": "2023-05-18T17:06:27.277043Z"
        },
        "id": "u28tKVBj7PME",
        "trusted": true
      },
      "outputs": [],
      "source": [
        "#convert from string to float and put them in a list \n",
        "def convertStringToList(string_data):\n",
        "    new_string = re.sub(r\"[\\[\\]]\", \"\", string_data)\n",
        "    new_data =  [  float(item)  for item in new_string.split(' ') if item!=''] \n",
        "    return  new_data\n",
        "def printDef(item1,item2):\n",
        "    item1 = convertStringToList(item1)\n",
        "    item2 = convertStringToList(item2)\n",
        "    return [item1,item2]\n",
        "    \n",
        "#declare the array X and assign the values to it\n",
        "X = []\n",
        "for index,value in df.iterrows():\n",
        "    X.append( printDef(value['premise_vectors'],value['hypothesis_vectors']) )\n",
        "\n",
        "# Set the random seed to a specific value\n",
        "    np.random.seed(42) \n",
        "    "
      ]
    },
    {
      "cell_type": "markdown",
      "metadata": {
        "id": "KhzA_hrV7YbG"
      },
      "source": [
        "\n",
        "We will use the following evaluation methods and metrics to compare and discuss the results of applying different sizes of K:\n",
        "\n",
        "\n",
        "-  **BCubed precision and recall:**  evaluates the precision and recall for every object in a clustering on the data set according to ground truth.\n",
        "\n",
        "1.      BCubed precision: The precision of an object indicates how many other objects in the same cluster belong to the same category as the object\n",
        "\n",
        "2.      BCubed recall: The recall of an object reflects how many objects of the same category are assigned to the same cluster\n",
        "\n",
        "\n",
        "\n",
        "   \n",
        "  \n",
        "\n",
        "   \n",
        "\n",
        "\n",
        "\n",
        "\n",
        "\n",
        "\n",
        "\n",
        "\n",
        "  \n",
        "\n",
        "\n",
        "\n",
        "\n",
        "\n",
        "          \n",
        "\n",
        "\n",
        "\n",
        "\n",
        "\n",
        "\n",
        "\n",
        "* **Silhouette\n",
        "coefficient**: intrinsic method that evaluate a \n",
        "clustering by examining how well the clusters \n",
        "are separated and how compact the clusters \n",
        "are.\n",
        "\n",
        "*  **total within-cluster sum of square WCSS:** it calculates the sum of the squared Euclidean distances between each data point and its respective cluster centroid,The WCSS  quantifies the compactness or tightness of the clusters formed by the k-means algorithm.\n",
        "\n",
        "\n",
        "\n",
        "\n"
      ]
    },
    {
      "cell_type": "markdown",
      "metadata": {
        "id": "p7ylb-c3Zg8u"
      },
      "source": [
        "### **BCubed precision and recall**\n",
        "\n",
        "\n",
        "**BCubed precision=** (number of items from same category in its cluster/ number of items in its cluster)/n\n",
        "\n",
        "**BCubed recall=** (number of items from same category in its cluster/\n",
        "number of items in its category )/n\n",
        "\n",
        "where **n** is the number of items in the dataset\n",
        "\n",
        "\n",
        "\n",
        "\n"
      ]
    },
    {
      "cell_type": "code",
      "execution_count": 207,
      "metadata": {
        "execution": {
          "iopub.execute_input": "2023-05-18T17:06:28.082570Z",
          "iopub.status.busy": "2023-05-18T17:06:28.081420Z",
          "iopub.status.idle": "2023-05-18T17:06:28.092012Z",
          "shell.execute_reply": "2023-05-18T17:06:28.090793Z",
          "shell.execute_reply.started": "2023-05-18T17:06:28.082534Z"
        },
        "id": "kKV1patB7PMG",
        "trusted": true
      },
      "outputs": [],
      "source": [
        "def calculate_bcubed_precision(cluster_assignments, true_labels):\n",
        "    precision_scores = []\n",
        "    for item in cluster_assignments:\n",
        "        true_cluster = true_labels[item]\n",
        "        matches_same_cluster = sum(1 for i in cluster_assignments if true_labels[i] == true_cluster)\n",
        "        total_matches = len(cluster_assignments)\n",
        "        precision_scores.append(matches_same_cluster / total_matches)\n",
        "    bcubed_precision = sum(precision_scores) / len(cluster_assignments)\n",
        "    return bcubed_precision\n",
        "\n",
        "\n",
        "def calculate_bcubed_recall(cluster_assignments, true_labels):\n",
        "    recall_scores = []\n",
        "    for item in cluster_assignments:\n",
        "        true_cluster = true_labels[item]\n",
        "        matches_same_cluster = sum(1 for i in cluster_assignments if true_labels[i] == true_cluster)\n",
        "        total_matches = sum(1 for i in true_labels if true_labels[i] == true_cluster)\n",
        "        try:\n",
        "            recall_scores.append(matches_same_cluster / total_matches)\n",
        "        except:\n",
        "            recall_scores.append(0)\n",
        "        \n",
        "    bcubed_recall = sum(recall_scores) / len(cluster_assignments)\n",
        "    return bcubed_recall"
      ]
    },
    {
      "cell_type": "markdown",
      "metadata": {
        "id": "PF2xDdOB7PMJ"
      },
      "source": [
        "### **Applying** **K-means**"
      ]
    },
    {
      "cell_type": "code",
      "execution_count": 208,
      "metadata": {
        "colab": {
          "base_uri": "https://localhost:8080/"
        },
        "id": "ZuRL9oA_lPHU",
        "outputId": "2fae7c3e-ac30-4028-d356-d347c8a79fee"
      },
      "outputs": [
        {
          "name": "stdout",
          "output_type": "stream",
          "text": [
            "X shape (3234, 2, 100)\n"
          ]
        }
      ],
      "source": [
        "# Reshaping the array to use it in clustering\n",
        "X = np.array(X)\n",
        "#print(X)\n",
        "x,y,z = X.shape\n",
        "print(\"X shape\", X.shape)\n"
      ]
    },
    {
      "cell_type": "code",
      "execution_count": 209,
      "metadata": {
        "colab": {
          "base_uri": "https://localhost:8080/"
        },
        "id": "CmIBP3_xD2_x",
        "outputId": "4116e473-9263-4bed-fbda-2719e6f59ce8"
      },
      "outputs": [
        {
          "name": "stdout",
          "output_type": "stream",
          "text": [
            "[[-0.22779953 -0.0211      0.553289   ... -1.0296712   0.6963184\n",
            "  -0.01380569]\n",
            " [-0.2274271  -0.03677742  0.56592155 ... -1.0138981   0.67923385\n",
            "  -0.02359509]\n",
            " [-0.22733772 -0.04054     0.56895339 ... -1.0004447   0.6646618\n",
            "  -0.03194488]\n",
            " ...\n",
            " [-0.22712039 -0.04968823  0.57632494 ... -1.02440953  0.70732826\n",
            "  -0.00602897]\n",
            " [-0.23917708 -0.04967493  0.52714461 ... -1.0188701   0.68461925\n",
            "  -0.0205093 ]\n",
            " [-0.23310827 -0.03680083  0.5427685  ... -1.0078795   0.67271477\n",
            "  -0.02733052]]\n"
          ]
        }
      ],
      "source": [
        "RESHAPED_X = np.reshape( X,(x,y*z) )\n",
        "print(RESHAPED_X)"
      ]
    },
    {
      "cell_type": "code",
      "execution_count": 210,
      "metadata": {
        "colab": {
          "base_uri": "https://localhost:8080/"
        },
        "execution": {
          "iopub.execute_input": "2023-05-18T17:06:28.093776Z",
          "iopub.status.busy": "2023-05-18T17:06:28.093462Z",
          "iopub.status.idle": "2023-05-18T17:07:16.690453Z",
          "shell.execute_reply": "2023-05-18T17:07:16.689359Z",
          "shell.execute_reply.started": "2023-05-18T17:06:28.093748Z"
        },
        "id": "X4yUeZTx7PMK",
        "outputId": "5d8e44c2-8fc3-44ad-a6de-7a04f2f10db2",
        "trusted": true
      },
      "outputs": [
        {
          "name": "stdout",
          "output_type": "stream",
          "text": [
            "cluster 2  label:  [0 0 0 ... 0 0 0]\n",
            "cluster 3  label:  [0 0 0 ... 0 0 0]\n",
            "cluster 4  label:  [0 0 0 ... 0 0 0]\n",
            "cluster 5  label:  [0 0 0 ... 0 0 0]\n",
            "cluster 6  label:  [3 0 3 ... 0 0 3]\n",
            "cluster 7  label:  [3 0 0 ... 0 0 3]\n",
            "cluster 8  label:  [0 0 3 ... 0 0 0]\n",
            "cluster 9  label:  [0 0 3 ... 0 0 0]\n",
            "cluster 10  label:  [0 0 3 ... 0 0 0]\n"
          ]
        }
      ],
      "source": [
        "# Define the number of clusters\n",
        "\n",
        "# Initialize a dict with the lists to store our evaluation methods values\n",
        "scores = {'silhouette_score':[],'WCSS':[],'recall':[],'precision':[]}\n",
        " \n",
        "# Define the range of k values to test\n",
        "k_values = range(2,11) \n",
        "\n",
        "for k in k_values:\n",
        "    # Create a KMeans instance and fit the data\n",
        "    kmeans = KMeans(n_clusters=k, init='k-means++', n_init='auto')\n",
        "    kmeans.fit(RESHAPED_X) # data \n",
        "    \n",
        "    # Retrieve the cluster labels for each data point\n",
        "    labels = kmeans.labels_ \n",
        "    print(\"cluster\" ,k ,\" label: \", labels)\n",
        "    \n",
        "    np.random.seed(42) # Set the random seed to a specific value \n",
        "\n",
        "    # Compute the silhouette score and append it into a dict\n",
        "    score = silhouette_score(RESHAPED_X, labels)\n",
        "    scores['silhouette_score'].append(score)\n",
        "    \n",
        "\n",
        "    # Compute the WCSS for the current clustering\n",
        "    scores['WCSS'].append(kmeans.inertia_)\n",
        "   \n",
        "   \n",
        "    # Compute the BCubed precision and recall scores\n",
        "    precision = calculate_bcubed_precision(labels, ground_truth_labels)\n",
        "    recall = calculate_bcubed_recall(labels, ground_truth_labels)\n",
        "    \n",
        "    scores['recall'].append(recall)\n",
        "    scores['precision'].append(precision)\n",
        "    \n"
      ]
    },
    {
      "cell_type": "markdown",
      "metadata": {
        "id": "3qOhMI897PMK"
      },
      "source": [
        "### **Plot the curves**"
      ]
    },
    {
      "cell_type": "code",
      "execution_count": 211,
      "metadata": {
        "execution": {
          "iopub.execute_input": "2023-05-18T17:16:47.482623Z",
          "iopub.status.busy": "2023-05-18T17:16:47.482191Z",
          "iopub.status.idle": "2023-05-18T17:16:47.726819Z",
          "shell.execute_reply": "2023-05-18T17:16:47.725516Z",
          "shell.execute_reply.started": "2023-05-18T17:16:47.482589Z"
        },
        "id": "wZZKV38X7PML",
        "trusted": true
      },
      "outputs": [],
      "source": [
        "# prepare the plot\n",
        "def plot_score(scores,ylabel,color):\n",
        "    k_values = [i for i in range(2,len(scores)+2)]\n",
        "    plt.plot( k_values , scores, marker='o',color=color)\n",
        "    plt.xlabel(\"Number of Clusters\")\n",
        "    plt.ylabel(ylabel)\n",
        "    plt.title(f\"{ylabel} for Different Cluster Numbers\")\n",
        "    plt.xticks(np.arange(2, len(scores)+2, 1))\n",
        "    plt.show()\n"
      ]
    },
    {
      "cell_type": "markdown",
      "metadata": {
        "id": "bVliSFsX7PML"
      },
      "source": [
        "### **silhouette scores plot**"
      ]
    },
    {
      "cell_type": "markdown",
      "metadata": {
        "id": "TQOPbQjoqAQw"
      },
      "source": [
        "**silhouette coefficient** of an object o is defined as:\n",
        "\n",
        "**(b(o)- a(o)) / max{ a(o), b(o) }**\n",
        "\n",
        "The value of **a(o)** reflects the compactness of the cluster to which **o** belongs.\n",
        "\n",
        " The smaller the value, the more compact the cluster. \n",
        " \n",
        " The value of **b(o)** captures the degree to which o is separated from other clusters.\n",
        " \n",
        " The larger **b(o)** is, the more separated **o** is from \n",
        "other \n",
        "clusters."
      ]
    },
    {
      "cell_type": "code",
      "execution_count": 212,
      "metadata": {
        "colab": {
          "base_uri": "https://localhost:8080/"
        },
        "execution": {
          "iopub.execute_input": "2023-05-18T17:07:16.694195Z",
          "iopub.status.busy": "2023-05-18T17:07:16.693723Z",
          "iopub.status.idle": "2023-05-18T17:07:16.701671Z",
          "shell.execute_reply": "2023-05-18T17:07:16.700572Z",
          "shell.execute_reply.started": "2023-05-18T17:07:16.694152Z"
        },
        "id": "SdY-Ivom7PMK",
        "outputId": "eb8dd8bc-42dd-4dab-a27e-ee36c6a4f0f2",
        "trusted": true
      },
      "outputs": [
        {
          "name": "stdout",
          "output_type": "stream",
          "text": [
            "[0.5954851240591986, 0.4017136316482922, 0.31111818769403665, 0.317366421621683, 0.23953974383038878, 0.2892239947279322, 0.2552184028533878, 0.24794120577291018, 0.25147643345524984]\n"
          ]
        }
      ],
      "source": [
        "#print silhouette list\n",
        "print( scores['silhouette_score'] )"
      ]
    },
    {
      "cell_type": "code",
      "execution_count": 213,
      "metadata": {
        "colab": {
          "base_uri": "https://localhost:8080/",
          "height": 472
        },
        "id": "OjKC0po3FrKX",
        "outputId": "88c6ef34-4a5e-43f6-cd66-41db62145f94"
      },
      "outputs": [
        {
          "data": {
            "image/png": "[encoded data removed]",
            "text/plain": [
              "<Figure size 640x480 with 1 Axes>"
            ]
          },
          "metadata": {},
          "output_type": "display_data"
        }
      ],
      "source": [
        "# Plot the silhouette scores\n",
        "plot_score(scores=scores['silhouette_score'],ylabel='silhouette score',color='red')"
      ]
    },
    {
      "cell_type": "markdown",
      "metadata": {
        "id": "ET1VL4yF7PML"
      },
      "source": [
        "\n",
        " \n",
        " The silhouette score ranges from -1 to 1, where a score of 1 means that the clusters are very nice, while a score of 0 means that clusters are overlapping and as we can see ,the best k is 2 since it has the heigher silhoutte score"
      ]
    },
    {
      "cell_type": "markdown",
      "metadata": {
        "id": "Z41UXs4I7PMM"
      },
      "source": [
        "### **WCSS scores plot**"
      ]
    },
    {
      "cell_type": "code",
      "execution_count": 214,
      "metadata": {
        "colab": {
          "base_uri": "https://localhost:8080/"
        },
        "id": "H9DQtyXCkrx8",
        "outputId": "d3ff4f40-868e-42d9-8c0b-28397b15fc5e"
      },
      "outputs": [
        {
          "name": "stdout",
          "output_type": "stream",
          "text": [
            "[424.9951562729565, 330.00269610424226, 284.52941115013084, 255.65462084026842, 235.06140361301863, 220.8764954451771, 205.61975189974515, 192.80019237675646, 179.32767333720534]\n"
          ]
        }
      ],
      "source": [
        "#print wcss list \n",
        "print( scores['WCSS'] )"
      ]
    },
    {
      "cell_type": "code",
      "execution_count": 215,
      "metadata": {
        "colab": {
          "base_uri": "https://localhost:8080/",
          "height": 472
        },
        "execution": {
          "iopub.execute_input": "2023-05-18T17:16:58.361146Z",
          "iopub.status.busy": "2023-05-18T17:16:58.360771Z",
          "iopub.status.idle": "2023-05-18T17:16:58.606284Z",
          "shell.execute_reply": "2023-05-18T17:16:58.605090Z",
          "shell.execute_reply.started": "2023-05-18T17:16:58.361116Z"
        },
        "id": "H9d2opWp7PMM",
        "outputId": "5d2381bd-18a8-402c-d236-7deb0f149797",
        "trusted": true
      },
      "outputs": [
        {
          "data": {
            "image/png": "[encoded data removed]",
            "text/plain": [
              "<Figure size 640x480 with 1 Axes>"
            ]
          },
          "metadata": {},
          "output_type": "display_data"
        }
      ],
      "source": [
        "plot_score(scores=scores['WCSS'],ylabel='WCSS score',color='green') # elbow method"
      ]
    },
    {
      "cell_type": "markdown",
      "metadata": {
        "id": "0Ht1xGbVvPf3"
      },
      "source": [
        "When we analyze the graph , we can see that the graph will rapidly change at a point and thus creating an elbow shape, from this point, the graph moves almost to the X-axis. The K value corresponding to this point is the optimal value of K or an optimal number of clusters which is k=3 in our dataset since the big distance difference between 3 and 2 is the greater"
      ]
    },
    {
      "cell_type": "markdown",
      "metadata": {
        "id": "KPClXMgV7PMb"
      },
      "source": [
        "### **BCubed precision scores plot**"
      ]
    },
    {
      "cell_type": "code",
      "execution_count": 216,
      "metadata": {
        "colab": {
          "base_uri": "https://localhost:8080/"
        },
        "id": "Cr8oYrERFiVe",
        "outputId": "92116a19-5eb2-4c16-eb61-ba210f380cd7"
      },
      "outputs": [
        {
          "name": "stdout",
          "output_type": "stream",
          "text": [
            "[0.7813659674248086, 0.9003935076025769, 0.5720919390413042, 0.5030751267167823, 0.44251209226031113, 0.5559512049042709, 0.4476626092051436, 0.4271190569891823, 0.4149569987099974]\n"
          ]
        }
      ],
      "source": [
        "#print precision list \n",
        "print( scores['precision'] )"
      ]
    },
    {
      "cell_type": "code",
      "execution_count": 217,
      "metadata": {
        "colab": {
          "base_uri": "https://localhost:8080/",
          "height": 472
        },
        "execution": {
          "iopub.execute_input": "2023-05-18T17:07:17.282034Z",
          "iopub.status.busy": "2023-05-18T17:07:17.281575Z",
          "iopub.status.idle": "2023-05-18T17:07:17.576940Z",
          "shell.execute_reply": "2023-05-18T17:07:17.575857Z",
          "shell.execute_reply.started": "2023-05-18T17:07:17.281975Z"
        },
        "id": "Xq0ZKGsx7PMb",
        "outputId": "42219af5-d28d-4015-f0ba-91968174cb50",
        "trusted": true
      },
      "outputs": [
        {
          "data": {
            "image/png": "[encoded data removed]",
            "text/plain": [
              "<Figure size 640x480 with 1 Axes>"
            ]
          },
          "metadata": {},
          "output_type": "display_data"
        }
      ],
      "source": [
        "plot_score(scores=scores['precision'],ylabel='BCubed precision score',color=\"blue\") "
      ]
    },
    {
      "cell_type": "markdown",
      "metadata": {
        "id": "B_kzmjj47PMb"
      },
      "source": [
        "### **BCubed recall scores plot**"
      ]
    },
    {
      "cell_type": "code",
      "execution_count": 160,
      "metadata": {
        "colab": {
          "base_uri": "https://localhost:8080/"
        },
        "id": "AveXIm1PFdoq",
        "outputId": "aaa6314c-5e79-4569-aaea-f1fae6cee609"
      },
      "outputs": [
        {
          "name": "stdout",
          "output_type": "stream",
          "text": [
            "[1.1810340613061916, 1.3364942067144423, 1.0008839212755756, 0.8170064990846945, 0.7891066205798044, 0.8966568555825692, 0.7146187535949315, 0.7183538863544646, 0.7575169264017032]\n"
          ]
        }
      ],
      "source": [
        "#print recall list \n",
        "print( scores['recall'] )"
      ]
    },
    {
      "cell_type": "code",
      "execution_count": 218,
      "metadata": {
        "colab": {
          "base_uri": "https://localhost:8080/",
          "height": 472
        },
        "execution": {
          "iopub.execute_input": "2023-05-18T17:07:17.579030Z",
          "iopub.status.busy": "2023-05-18T17:07:17.578610Z",
          "iopub.status.idle": "2023-05-18T17:07:17.870544Z",
          "shell.execute_reply": "2023-05-18T17:07:17.869370Z",
          "shell.execute_reply.started": "2023-05-18T17:07:17.578991Z"
        },
        "id": "Q1cgFu8D7PMb",
        "outputId": "054ff001-481d-459f-9222-8ad90fd15943",
        "trusted": true
      },
      "outputs": [
        {
          "data": {
            "image/png": "[encoded data removed]",
            "text/plain": [
              "<Figure size 640x480 with 1 Axes>"
            ]
          },
          "metadata": {},
          "output_type": "display_data"
        }
      ],
      "source": [
        "plot_score(scores=scores['recall'],ylabel='BCubed recall score',color=\"orange\")"
      ]
    },
    {
      "cell_type": "markdown",
      "metadata": {
        "id": "piHL51YE7PMc"
      },
      "source": [
        "The 2 graphs above represent the BCubed precision and recall in differnt Ks, we need to choose the k that gives the highest BCubed recall and pricession and we can clearly see that k=3 is has the biggest value"
      ]
    },
    {
      "cell_type": "markdown",
      "metadata": {
        "id": "KkyswWSs7PMc"
      },
      "source": [
        "# **conclusion**"
      ]
    },
    {
      "cell_type": "markdown",
      "metadata": {
        "id": "zctvmdDS3mgM"
      },
      "source": [
        "we did use the unsupervised learning algorithm (K-means clustering) to our dataset , we use 9 different sizes of K from 2 to 10, then we did compare between them with different evaluation methods and metrics \n",
        "\n",
        "we use Silhouette\n",
        "coefficient and it gives us K=2 as the optimal number of clusters or K as we discussed above\n",
        "\n",
        "we also use total within-cluster sum of square (WCSS) which gives us different optimal K, it gives us K=3 as the optimal number of clusters or K\n",
        "\n",
        "we tried to use BCubed precision and recall and they all give us K=3 as the optimal number of clusters or K \n",
        "\n",
        "now, we have 3 evaluation methods and metrics that give us 3 as the optimal number of clusters (WCSS , BCubed presision,  BCubed recall) and one evaluation method that give us 2 as the optimal number of clusters(Silhouette\n",
        "coefficient)  \n",
        "\n",
        "so based on the results, the most repeated number of cluster was K=3, and we decide to take it as our dataset's optimal K.  "
      ]
    }
  ],
  "metadata": {
    "colab": {
      "provenance": []
    },
    "kernelspec": {
      "display_name": "Python 3",
      "language": "python",
      "name": "python3"
    },
    "language_info": {
      "codemirror_mode": {
        "name": "ipython",
        "version": 3
      },
      "file_extension": ".py",
      "mimetype": "text/x-python",
      "name": "python",
      "nbconvert_exporter": "python",
      "pygments_lexer": "ipython3",
      "version": "3.10.10"
    }
  },
  "nbformat": 4,
  "nbformat_minor": 0
}
